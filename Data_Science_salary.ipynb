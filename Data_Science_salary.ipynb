{
  "nbformat": 4,
  "nbformat_minor": 0,
  "metadata": {
    "colab": {
      "provenance": []
    },
    "kernelspec": {
      "name": "python3",
      "display_name": "Python 3"
    },
    "language_info": {
      "name": "python"
    }
  },
  "cells": [
    {
      "cell_type": "markdown",
      "source": [
        "\n",
        "\n",
        "#**Title:** **Unlocking Insights: Exploring Trends and Predicting Data Science Salaries**\n",
        "\n",
        "Objective:\n",
        "\n",
        "Our objective is to analyze the provided dataset on Data Science salaries and employment characteristics to uncover meaningful insights and trends. Additionally, we aim to build a predictive model to forecast Data Science salaries based on various factors such as experience level, employment type, job title, and company attributes.\n",
        "\n",
        "What we want to predict:\n",
        "We want to predict the salary of Data Science professionals based on the following factors:\n",
        "\n",
        "    Experience level\n",
        "    Employment type\n",
        "    Job title\n",
        "    Company attributes such as size and location\n",
        "    By predicting salaries, we aim to provide valuable insights for both job seekers and employers in the Data Science field."
      ],
      "metadata": {
        "id": "RxUvfXIZZDmj"
      }
    },
    {
      "cell_type": "code",
      "source": [
        "import pandas as pd\n",
        "import matplotlib.pyplot as plt\n",
        "import seaborn as sns\n",
        "\n",
        "# Load the dataset\n",
        "df = pd.read_csv(\"/content/drive/MyDrive/ds_salaries.csv\")\n",
        "\n",
        "# Display basic information about the dataset\n",
        "print(\"Dataset information:\")\n",
        "print(df.info())\n",
        "\n",
        "\n"
      ],
      "metadata": {
        "colab": {
          "base_uri": "https://localhost:8080/"
        },
        "id": "DexnEjaeQ3uN",
        "outputId": "7f383508-64fd-4d44-8eb7-aa634204d4c3"
      },
      "execution_count": 51,
      "outputs": [
        {
          "output_type": "stream",
          "name": "stdout",
          "text": [
            "Dataset information:\n",
            "<class 'pandas.core.frame.DataFrame'>\n",
            "RangeIndex: 607 entries, 0 to 606\n",
            "Data columns (total 12 columns):\n",
            " #   Column              Non-Null Count  Dtype \n",
            "---  ------              --------------  ----- \n",
            " 0   Unnamed: 0          607 non-null    int64 \n",
            " 1   work_year           607 non-null    int64 \n",
            " 2   experience_level    607 non-null    object\n",
            " 3   employment_type     607 non-null    object\n",
            " 4   job_title           607 non-null    object\n",
            " 5   salary              607 non-null    int64 \n",
            " 6   salary_currency     607 non-null    object\n",
            " 7   salary_in_usd       607 non-null    int64 \n",
            " 8   employee_residence  607 non-null    object\n",
            " 9   remote_ratio        607 non-null    int64 \n",
            " 10  company_location    607 non-null    object\n",
            " 11  company_size        607 non-null    object\n",
            "dtypes: int64(5), object(7)\n",
            "memory usage: 57.0+ KB\n",
            "None\n"
          ]
        }
      ]
    },
    {
      "cell_type": "code",
      "source": [
        "# Check for missing values\n",
        "print(\"\\nMissing values:\")\n",
        "print(df.isnull().sum())"
      ],
      "metadata": {
        "colab": {
          "base_uri": "https://localhost:8080/"
        },
        "id": "quzxasVdRVZQ",
        "outputId": "4413a9be-5790-4056-d096-98dd17733684"
      },
      "execution_count": 52,
      "outputs": [
        {
          "output_type": "stream",
          "name": "stdout",
          "text": [
            "\n",
            "Missing values:\n",
            "Unnamed: 0            0\n",
            "work_year             0\n",
            "experience_level      0\n",
            "employment_type       0\n",
            "job_title             0\n",
            "salary                0\n",
            "salary_currency       0\n",
            "salary_in_usd         0\n",
            "employee_residence    0\n",
            "remote_ratio          0\n",
            "company_location      0\n",
            "company_size          0\n",
            "dtype: int64\n"
          ]
        }
      ]
    },
    {
      "cell_type": "code",
      "source": [
        "# Check for outliers and inconsistencies\n",
        "print(\"\\nDescriptive statistics:\")\n",
        "print(df.describe())"
      ],
      "metadata": {
        "colab": {
          "base_uri": "https://localhost:8080/"
        },
        "id": "6HF-yBirRvi_",
        "outputId": "24209692-700d-4973-fc0e-bcd8e84cf999"
      },
      "execution_count": 53,
      "outputs": [
        {
          "output_type": "stream",
          "name": "stdout",
          "text": [
            "\n",
            "Descriptive statistics:\n",
            "       Unnamed: 0    work_year        salary  salary_in_usd  remote_ratio\n",
            "count  607.000000   607.000000  6.070000e+02     607.000000     607.00000\n",
            "mean   303.000000  2021.405272  3.240001e+05  112297.869852      70.92257\n",
            "std    175.370085     0.692133  1.544357e+06   70957.259411      40.70913\n",
            "min      0.000000  2020.000000  4.000000e+03    2859.000000       0.00000\n",
            "25%    151.500000  2021.000000  7.000000e+04   62726.000000      50.00000\n",
            "50%    303.000000  2022.000000  1.150000e+05  101570.000000     100.00000\n",
            "75%    454.500000  2022.000000  1.650000e+05  150000.000000     100.00000\n",
            "max    606.000000  2022.000000  3.040000e+07  600000.000000     100.00000\n"
          ]
        }
      ]
    },
    {
      "cell_type": "code",
      "source": [
        "# Explore distributions of variables\n",
        "plt.figure(figsize=(12, 8))"
      ],
      "metadata": {
        "colab": {
          "base_uri": "https://localhost:8080/",
          "height": 53
        },
        "id": "c7fhwPwOTHQO",
        "outputId": "a66b654d-ec84-48b2-f38f-e0b6b0b6d025"
      },
      "execution_count": 54,
      "outputs": [
        {
          "output_type": "execute_result",
          "data": {
            "text/plain": [
              "<Figure size 1200x800 with 0 Axes>"
            ]
          },
          "metadata": {},
          "execution_count": 54
        },
        {
          "output_type": "display_data",
          "data": {
            "text/plain": [
              "<Figure size 1200x800 with 0 Axes>"
            ]
          },
          "metadata": {}
        }
      ]
    },
    {
      "cell_type": "code",
      "source": [
        "# Distribution of salary\n",
        "plt.subplot(2, 2, 1)\n",
        "sns.histplot(df['salary'], bins=20, kde=True)\n",
        "plt.title(\"Distribution of Salary\")\n"
      ],
      "metadata": {
        "colab": {
          "base_uri": "https://localhost:8080/",
          "height": 288
        },
        "id": "u3KC9t_qTM34",
        "outputId": "80fadcef-e63b-4f59-bc1a-b6bae1c91c3f"
      },
      "execution_count": 55,
      "outputs": [
        {
          "output_type": "execute_result",
          "data": {
            "text/plain": [
              "Text(0.5, 1.0, 'Distribution of Salary')"
            ]
          },
          "metadata": {},
          "execution_count": 55
        },
        {
          "output_type": "display_data",
          "data": {
            "text/plain": [
              "<Figure size 640x480 with 1 Axes>"
            ],
            "image/png": "[encoded data removed]"
          },
          "metadata": {}
        }
      ]
    },
    {
      "cell_type": "code",
      "source": [
        "# Relationship between experience level and salary\n",
        "plt.subplot(2, 2, 2)\n",
        "sns.boxplot(x='experience_level', y='salary', data=df)\n",
        "plt.title(\"Relationship between Experience Level and Salary\")"
      ],
      "metadata": {
        "colab": {
          "base_uri": "https://localhost:8080/",
          "height": 303
        },
        "id": "V_Gm6kbNTcGl",
        "outputId": "e2986fdc-a367-49cf-bdda-fc78f76ff586"
      },
      "execution_count": 56,
      "outputs": [
        {
          "output_type": "execute_result",
          "data": {
            "text/plain": [
              "Text(0.5, 1.0, 'Relationship between Experience Level and Salary')"
            ]
          },
          "metadata": {},
          "execution_count": 56
        },
        {
          "output_type": "display_data",
          "data": {
            "text/plain": [
              "<Figure size 640x480 with 1 Axes>"
            ],
            "image/png": "[encoded data removed]"
          },
          "metadata": {}
        }
      ]
    },
    {
      "cell_type": "code",
      "source": [
        "# Relationship between employment type and salary\n",
        "plt.subplot(2, 2, 3)\n",
        "sns.boxplot(x='employment_type', y='salary', data=df)\n",
        "plt.title(\"Relationship between Employment Type and Salary\")"
      ],
      "metadata": {
        "colab": {
          "base_uri": "https://localhost:8080/",
          "height": 303
        },
        "id": "j18viESuTslX",
        "outputId": "e0a33b03-127b-4145-c382-fa81ebd0789d"
      },
      "execution_count": 57,
      "outputs": [
        {
          "output_type": "execute_result",
          "data": {
            "text/plain": [
              "Text(0.5, 1.0, 'Relationship between Employment Type and Salary')"
            ]
          },
          "metadata": {},
          "execution_count": 57
        },
        {
          "output_type": "display_data",
          "data": {
            "text/plain": [
              "<Figure size 640x480 with 1 Axes>"
            ],
            "image/png": "[encoded data removed]"
          },
          "metadata": {}
        }
      ]
    },
    {
      "cell_type": "code",
      "source": [
        "\n",
        "# Relationship between company size and salary\n",
        "plt.subplot(2, 2, 4)\n",
        "sns.boxplot(x='company_size', y='salary', data=df)\n",
        "plt.title(\"Relationship between Company Size and Salary\")\n",
        "\n",
        "plt.tight_layout()\n",
        "plt.show()"
      ],
      "metadata": {
        "colab": {
          "base_uri": "https://localhost:8080/",
          "height": 294
        },
        "id": "-GVNDlLcT32o",
        "outputId": "e2a9a2f8-b343-45fb-8146-c24e1abe3b3a"
      },
      "execution_count": 58,
      "outputs": [
        {
          "output_type": "display_data",
          "data": {
            "text/plain": [
              "<Figure size 640x480 with 1 Axes>"
            ],
            "image/png": "[encoded data removed]"
          },
          "metadata": {}
        }
      ]
    },
    {
      "cell_type": "code",
      "source": [
        "from sklearn.model_selection import train_test_split\n",
        "from sklearn.preprocessing import LabelEncoder, StandardScaler\n",
        "\n",
        "# Encode categorical variables\n",
        "label_encoders = {}\n",
        "for column in ['experience_level', 'employment_type', 'job_title', 'employee_residence', 'company_location', 'company_size']:\n",
        "    label_encoders[column] = LabelEncoder()\n",
        "    df[column] = label_encoders[column].fit_transform(df[column])\n",
        "\n",
        "# Scale numerical variables (if necessary)\n",
        "# In this case, salary_in_usd might need scaling, but it's already in USD, so we'll skip scaling for now\n",
        "\n",
        "# Split the data into features (X) and target (y)\n",
        "X = df.drop(columns=['salary', 'salary_currency', 'salary_in_usd'])\n",
        "y = df['salary']\n",
        "\n",
        "# Split the data into training and testing sets (80% training, 20% testing)\n",
        "X_train, X_test, y_train, y_test = train_test_split(X, y, test_size=0.2, random_state=42)\n",
        "\n",
        "# Optionally, you can scale numerical variables using StandardScaler\n",
        "# scaler = StandardScaler()\n",
        "# X_train_scaled = scaler.fit_transform(X_train)\n",
        "# X_test_scaled = scaler.transform(X_test)\n"
      ],
      "metadata": {
        "id": "gQatwSnGURph"
      },
      "execution_count": 63,
      "outputs": []
    },
    {
      "cell_type": "code",
      "source": [
        "from sklearn.linear_model import LinearRegression\n",
        "from sklearn.tree import DecisionTreeRegressor\n",
        "from sklearn.ensemble import RandomForestRegressor\n",
        "from sklearn.metrics import mean_absolute_error, mean_squared_error\n",
        "\n",
        "# Initialize models\n",
        "linear_regression_model = LinearRegression()\n",
        "decision_tree_model = DecisionTreeRegressor(random_state=42)\n",
        "random_forest_model = RandomForestRegressor(n_estimators=100, random_state=42)\n",
        "\n",
        "# Train the models\n",
        "linear_regression_model.fit(X_train, y_train)\n",
        "decision_tree_model.fit(X_train, y_train)\n",
        "random_forest_model.fit(X_train, y_train)\n",
        "\n",
        "# Make predictions\n",
        "y_pred_linear_regression = linear_regression_model.predict(X_test)\n",
        "y_pred_decision_tree = decision_tree_model.predict(X_test)\n",
        "y_pred_random_forest = random_forest_model.predict(X_test)\n",
        "\n",
        "# Evaluate model performance\n",
        "linear_regression_mae = mean_absolute_error(y_test, y_pred_linear_regression)\n",
        "decision_tree_mae = mean_absolute_error(y_test, y_pred_decision_tree)\n",
        "random_forest_mae = mean_absolute_error(y_test, y_pred_random_forest)\n",
        "\n",
        "linear_regression_rmse = mean_squared_error(y_test, y_pred_linear_regression, squared=False)\n",
        "decision_tree_rmse = mean_squared_error(y_test, y_pred_decision_tree, squared=False)\n",
        "random_forest_rmse = mean_squared_error(y_test, y_pred_random_forest, squared=False)\n",
        "\n",
        "print(\"Mean Absolute Error:\")\n",
        "print(f\"Linear Regression: {linear_regression_mae}\")\n",
        "print(f\"Decision Tree: {decision_tree_mae}\")\n",
        "print(f\"Random Forest: {random_forest_mae}\")\n",
        "\n",
        "print(\"\\nRoot Mean Squared Error:\")\n",
        "print(f\"Linear Regression: {linear_regression_rmse}\")\n",
        "print(f\"Decision Tree: {decision_tree_rmse}\")\n",
        "print(f\"Random Forest: {random_forest_rmse}\")\n"
      ],
      "metadata": {
        "colab": {
          "base_uri": "https://localhost:8080/"
        },
        "id": "R4HipednWMaD",
        "outputId": "ee24cac3-968b-4385-c336-18624a7fb97b"
      },
      "execution_count": 64,
      "outputs": [
        {
          "output_type": "stream",
          "name": "stdout",
          "text": [
            "Mean Absolute Error:\n",
            "Linear Regression: 565605.231018697\n",
            "Decision Tree: 440167.54098360654\n",
            "Random Forest: 516845.44967213116\n",
            "\n",
            "Root Mean Squared Error:\n",
            "Linear Regression: 2835326.623978585\n",
            "Decision Tree: 2932992.496124075\n",
            "Random Forest: 2853127.793934553\n"
          ]
        }
      ]
    },
    {
      "cell_type": "code",
      "source": [
        "from sklearn.model_selection import cross_val_score\n",
        "\n",
        "# Define a function to perform cross-validation and calculate mean MAE\n",
        "def cross_val_mae(model, X, y):\n",
        "    mae_scores = -cross_val_score(model, X, y, scoring=\"neg_mean_absolute_error\", cv=5)\n",
        "    return mae_scores.mean()\n",
        "\n",
        "# Define a function to perform cross-validation and calculate mean RMSE\n",
        "def cross_val_rmse(model, X, y):\n",
        "    rmse_scores = -cross_val_score(model, X, y, scoring=\"neg_root_mean_squared_error\", cv=5)\n",
        "    return rmse_scores.mean()\n",
        "\n",
        "# Perform cross-validation and fine-tune hyperparameters for each model\n",
        "linear_regression_cv_mae = cross_val_mae(linear_regression_model, X_train, y_train)\n",
        "decision_tree_cv_mae = cross_val_mae(decision_tree_model, X_train, y_train)\n",
        "random_forest_cv_mae = cross_val_mae(random_forest_model, X_train, y_train)\n",
        "\n",
        "linear_regression_cv_rmse = cross_val_rmse(linear_regression_model, X_train, y_train)\n",
        "decision_tree_cv_rmse = cross_val_rmse(decision_tree_model, X_train, y_train)\n",
        "random_forest_cv_rmse = cross_val_rmse(random_forest_model, X_train, y_train)\n",
        "\n",
        "# Compare the performance of different models\n",
        "print(\"Cross-Validation Mean Absolute Error:\")\n",
        "print(f\"Linear Regression: {linear_regression_cv_mae}\")\n",
        "print(f\"Decision Tree: {decision_tree_cv_mae}\")\n",
        "print(f\"Random Forest: {random_forest_cv_mae}\")\n",
        "\n",
        "print(\"\\nCross-Validation Root Mean Squared Error:\")\n",
        "print(f\"Linear Regression: {linear_regression_cv_rmse}\")\n",
        "print(f\"Decision Tree: {decision_tree_cv_rmse}\")\n",
        "print(f\"Random Forest: {random_forest_cv_rmse}\")\n",
        "\n",
        "# Choose the best-performing model based on evaluation metrics\n",
        "best_model = min([\n",
        "    (\"Linear Regression\", linear_regression_cv_mae),\n",
        "    (\"Decision Tree\", decision_tree_cv_mae),\n",
        "    (\"Random Forest\", random_forest_cv_mae)\n",
        "], key=lambda x: x[1])\n",
        "\n",
        "print(f\"\\nBest-performing model based on Mean Absolute Error: {best_model[0]}\")\n"
      ],
      "metadata": {
        "colab": {
          "base_uri": "https://localhost:8080/"
        },
        "id": "zV6QvRR-W-hD",
        "outputId": "6cd7ccbc-e09c-4889-9af1-804dbd2e5716"
      },
      "execution_count": 66,
      "outputs": [
        {
          "output_type": "stream",
          "name": "stdout",
          "text": [
            "Cross-Validation Mean Absolute Error:\n",
            "Linear Regression: 359284.404470257\n",
            "Decision Tree: 278746.3484536082\n",
            "Random Forest: 284783.0178556701\n",
            "\n",
            "Cross-Validation Root Mean Squared Error:\n",
            "Linear Regression: 935633.8072069585\n",
            "Decision Tree: 1150989.4741137729\n",
            "Random Forest: 945665.6966572171\n",
            "\n",
            "Best-performing model based on Mean Absolute Error: Decision Tree\n"
          ]
        }
      ]
    },
    {
      "cell_type": "code",
      "source": [
        "# Use the trained Decision Tree model to make predictions on unseen data\n",
        "predictions = decision_tree_model.predict(X_test)\n",
        "\n",
        "# Display actual vs. predicted salaries\n",
        "results = pd.DataFrame({'Actual Salary': y_test, 'Predicted Salary': predictions})\n",
        "print(results.head(10))\n"
      ],
      "metadata": {
        "colab": {
          "base_uri": "https://localhost:8080/"
        },
        "id": "8ojHh_YWXegY",
        "outputId": "01b6937a-77af-4ee6-a60a-d6d2661a3de5"
      },
      "execution_count": 67,
      "outputs": [
        {
          "output_type": "stream",
          "name": "stdout",
          "text": [
            "     Actual Salary  Predicted Salary\n",
            "563         140250          175100.0\n",
            "289         135000          165400.0\n",
            "76          100000          120000.0\n",
            "78          270000          170000.0\n",
            "182          22000           44000.0\n",
            "495         153000          120000.0\n",
            "10           45000           35000.0\n",
            "131          42000           35000.0\n",
            "445          70000           80000.0\n",
            "86           50000            8760.0\n"
          ]
        }
      ]
    },
    {
      "cell_type": "code",
      "source": [
        "# Use the trained Linear Regression model to make predictions on unseen data\n",
        "predictions_linear_regression = linear_regression_model.predict(X_test)\n",
        "\n",
        "# Display actual vs. predicted salaries\n",
        "results_linear_regression = pd.DataFrame({'Actual Salary': y_test, 'Predicted Salary (Linear Regression)': predictions_linear_regression})\n",
        "print(results_linear_regression.head(10))\n"
      ],
      "metadata": {
        "colab": {
          "base_uri": "https://localhost:8080/"
        },
        "id": "pQvYlNYQXvaY",
        "outputId": "181627bb-91a0-47eb-9381-4716eede9586"
      },
      "execution_count": 68,
      "outputs": [
        {
          "output_type": "stream",
          "name": "stdout",
          "text": [
            "     Actual Salary  Predicted Salary (Linear Regression)\n",
            "563         140250                          46055.123767\n",
            "289         135000                         138393.294528\n",
            "76          100000                         241109.506381\n",
            "78          270000                         606086.487066\n",
            "182          22000                         615548.338327\n",
            "495         153000                         145480.624658\n",
            "10           45000                         410561.764101\n",
            "131          42000                         409868.342860\n",
            "445          70000                         198859.591373\n",
            "86           50000                         416776.531872\n"
          ]
        }
      ]
    },
    {
      "cell_type": "code",
      "source": [
        "# Use the trained Linear Regression model to make predictions on unseen data\n",
        "predictions_linear_regression = linear_regression_model.predict(X_test)\n",
        "\n",
        "# Display actual vs. predicted salaries\n",
        "results_linear_regression = pd.DataFrame({'Actual Salary': y_test, 'Predicted Salary (Linear Regression)': predictions_linear_regression})\n",
        "print(results_linear_regression.head(10))\n"
      ],
      "metadata": {
        "colab": {
          "base_uri": "https://localhost:8080/"
        },
        "id": "CgjN-ysbX0R6",
        "outputId": "1c83f4c8-ffb1-4cbe-c7e4-e53fe1a28bb0"
      },
      "execution_count": 69,
      "outputs": [
        {
          "output_type": "stream",
          "name": "stdout",
          "text": [
            "     Actual Salary  Predicted Salary (Linear Regression)\n",
            "563         140250                          46055.123767\n",
            "289         135000                         138393.294528\n",
            "76          100000                         241109.506381\n",
            "78          270000                         606086.487066\n",
            "182          22000                         615548.338327\n",
            "495         153000                         145480.624658\n",
            "10           45000                         410561.764101\n",
            "131          42000                         409868.342860\n",
            "445          70000                         198859.591373\n",
            "86           50000                         416776.531872\n"
          ]
        }
      ]
    },
    {
      "cell_type": "markdown",
      "source": [
        "   ## **Feature Importance:**\n",
        "        Random Forest model: Check the feature importance scores to understand which variables have the most significant impact on salary predictions. Higher importance scores indicate stronger influence.\n",
        "        Linear Regression coefficients: Analyze the coefficients to see how each feature contributes to salary predictions. Positive coefficients indicate a positive relationship, while negative coefficients indicate a negative relationship.\n",
        "\n",
        "   ## **Insights:**\n",
        "        Experience Level: Senior-level and executive-level roles tend to have higher salaries compared to entry-level or junior roles.\n",
        "        Job Title: Certain specialized roles or roles with higher responsibilities may command higher salaries.\n",
        "        Company Attributes: Companies with larger sizes or located in certain regions might offer higher salaries.\n",
        "\n",
        " #  **Recommendations:**\n",
        "\n",
        "For Job Seekers:\n",
        "\n",
        "    Focus on gaining experience and advancing to senior-level positions to command higher salaries.\n",
        "    Consider specializing in high-demand areas within Data Science to increase earning potential.\n",
        "    Research companies in regions known for offering competitive salaries and opportunities for career growth.\n",
        "\n",
        "For Employers:\n",
        "\n",
        "    Offer competitive salaries to attract and retain top talent, especially for senior-level and specialized roles.\n",
        "    Provide opportunities for professional development and advancement to encourage employees to stay with the company.\n",
        "    Consider factors like company size and location when determining salary ranges to remain competitive in the market.\n",
        "\n",
        "By leveraging these insights and recommendations, both job seekers and employers can make informed decisions to optimize salaries and career opportunities in the Data Science field. Additionally, continuous monitoring and analysis of salary trends can help adapt to changes in the job market and maintain competitiveness."
      ],
      "metadata": {
        "id": "i2lnfLEzYYZr"
      }
    }
  ]
}